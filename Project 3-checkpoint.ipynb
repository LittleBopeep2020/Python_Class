{
 "cells": [
  {
   "cell_type": "code",
   "execution_count": 1,
   "id": "83a342c8",
   "metadata": {},
   "outputs": [],
   "source": [
    "import pandas as pd\n",
    "import numpy as np\n",
    "import matplotlib.pyplot as plt\n",
    "%matplotlib inline\n",
    "import seaborn as sns"
   ]
  },
  {
   "cell_type": "code",
   "execution_count": 2,
   "id": "566d32af",
   "metadata": {},
   "outputs": [],
   "source": [
    "#Data Collection\n",
    "df = pd.read_csv('NYPD_Arrest_Data__Year_to_Date__20231219.csv')"
   ]
  },
  {
   "cell_type": "code",
   "execution_count": 3,
   "id": "ba8ea646",
   "metadata": {},
   "outputs": [],
   "source": [
    "#What is Queens Borough's most common crime type?"
   ]
  },
  {
   "cell_type": "markdown",
   "id": "a15e818a",
   "metadata": {},
   "source": [
    "the goal of this project is to analyze nypd arrest data\n",
    "\n",
    "▪ pick any zip code/neighborhood/district in this dataset as an initial comparison point\n",
    "\n",
    "▪ pick a feature/measure/column\n",
    "\n",
    "▪ compare above entity to any other (different) entity - you only need to do one additional comparison point (but you’re welcome to do more comparisons if you feel compelled to do so)\n",
    "\n",
    "▪ the analysis should include some descriptive statistics\n",
    "\n",
    "▪ the analysis should include one cleaning task (or more)\n",
    "\n",
    "▪ the analysis should include one visualization (or more) \n",
    "\n",
    "▪ the analysis should include a brief conclusion statement that includes a discussion on bias (not more than four sentences) the tasks"
   ]
  },
  {
   "cell_type": "code",
   "execution_count": 4,
   "id": "c398cc36",
   "metadata": {},
   "outputs": [
    {
     "data": {
      "text/html": [
       "<div>\n",
       "<style scoped>\n",
       "    .dataframe tbody tr th:only-of-type {\n",
       "        vertical-align: middle;\n",
       "    }\n",
       "\n",
       "    .dataframe tbody tr th {\n",
       "        vertical-align: top;\n",
       "    }\n",
       "\n",
       "    .dataframe thead th {\n",
       "        text-align: right;\n",
       "    }\n",
       "</style>\n",
       "<table border=\"1\" class=\"dataframe\">\n",
       "  <thead>\n",
       "    <tr style=\"text-align: right;\">\n",
       "      <th></th>\n",
       "      <th>ARREST_KEY</th>\n",
       "      <th>ARREST_DATE</th>\n",
       "      <th>PD_CD</th>\n",
       "      <th>PD_DESC</th>\n",
       "      <th>KY_CD</th>\n",
       "      <th>OFNS_DESC</th>\n",
       "      <th>LAW_CODE</th>\n",
       "      <th>LAW_CAT_CD</th>\n",
       "      <th>ARREST_BORO</th>\n",
       "      <th>ARREST_PRECINCT</th>\n",
       "      <th>JURISDICTION_CODE</th>\n",
       "      <th>AGE_GROUP</th>\n",
       "      <th>PERP_SEX</th>\n",
       "      <th>PERP_RACE</th>\n",
       "      <th>X_COORD_CD</th>\n",
       "      <th>Y_COORD_CD</th>\n",
       "      <th>Latitude</th>\n",
       "      <th>Longitude</th>\n",
       "      <th>New Georeferenced Column</th>\n",
       "    </tr>\n",
       "  </thead>\n",
       "  <tbody>\n",
       "    <tr>\n",
       "      <th>0</th>\n",
       "      <td>261209118</td>\n",
       "      <td>01/01/2023</td>\n",
       "      <td>109</td>\n",
       "      <td>ASSAULT 2,1,UNCLASSIFIED</td>\n",
       "      <td>106.0</td>\n",
       "      <td>FELONY ASSAULT</td>\n",
       "      <td>PL 1200501</td>\n",
       "      <td>F</td>\n",
       "      <td>K</td>\n",
       "      <td>77</td>\n",
       "      <td>0</td>\n",
       "      <td>45-64</td>\n",
       "      <td>F</td>\n",
       "      <td>BLACK</td>\n",
       "      <td>999335</td>\n",
       "      <td>186085</td>\n",
       "      <td>40.677426</td>\n",
       "      <td>-73.945615</td>\n",
       "      <td>POINT (-73.945615 40.677426)</td>\n",
       "    </tr>\n",
       "    <tr>\n",
       "      <th>1</th>\n",
       "      <td>262984267</td>\n",
       "      <td>02/03/2023</td>\n",
       "      <td>515</td>\n",
       "      <td>CONTROLLED SUBSTANCE,SALE 3</td>\n",
       "      <td>117.0</td>\n",
       "      <td>DANGEROUS DRUGS</td>\n",
       "      <td>PL 2203901</td>\n",
       "      <td>F</td>\n",
       "      <td>K</td>\n",
       "      <td>73</td>\n",
       "      <td>0</td>\n",
       "      <td>25-44</td>\n",
       "      <td>M</td>\n",
       "      <td>BLACK</td>\n",
       "      <td>1009318</td>\n",
       "      <td>178259</td>\n",
       "      <td>40.655923</td>\n",
       "      <td>-73.909650</td>\n",
       "      <td>POINT (-73.90965 40.655923)</td>\n",
       "    </tr>\n",
       "    <tr>\n",
       "      <th>2</th>\n",
       "      <td>263664549</td>\n",
       "      <td>02/15/2023</td>\n",
       "      <td>105</td>\n",
       "      <td>STRANGULATION 1ST</td>\n",
       "      <td>106.0</td>\n",
       "      <td>FELONY ASSAULT</td>\n",
       "      <td>PL 1211200</td>\n",
       "      <td>F</td>\n",
       "      <td>K</td>\n",
       "      <td>62</td>\n",
       "      <td>0</td>\n",
       "      <td>25-44</td>\n",
       "      <td>M</td>\n",
       "      <td>WHITE</td>\n",
       "      <td>982272</td>\n",
       "      <td>158771</td>\n",
       "      <td>40.602468</td>\n",
       "      <td>-74.007120</td>\n",
       "      <td>POINT (-74.00712 40.602468)</td>\n",
       "    </tr>\n",
       "    <tr>\n",
       "      <th>3</th>\n",
       "      <td>261345231</td>\n",
       "      <td>01/04/2023</td>\n",
       "      <td>105</td>\n",
       "      <td>STRANGULATION 1ST</td>\n",
       "      <td>106.0</td>\n",
       "      <td>FELONY ASSAULT</td>\n",
       "      <td>PL 1211200</td>\n",
       "      <td>F</td>\n",
       "      <td>M</td>\n",
       "      <td>32</td>\n",
       "      <td>0</td>\n",
       "      <td>25-44</td>\n",
       "      <td>M</td>\n",
       "      <td>BLACK</td>\n",
       "      <td>999899</td>\n",
       "      <td>238684</td>\n",
       "      <td>40.821797</td>\n",
       "      <td>-73.943457</td>\n",
       "      <td>POINT (-73.943457 40.821797)</td>\n",
       "    </tr>\n",
       "    <tr>\n",
       "      <th>4</th>\n",
       "      <td>263536618</td>\n",
       "      <td>02/13/2023</td>\n",
       "      <td>109</td>\n",
       "      <td>ASSAULT 2,1,UNCLASSIFIED</td>\n",
       "      <td>106.0</td>\n",
       "      <td>FELONY ASSAULT</td>\n",
       "      <td>PL 12005WX</td>\n",
       "      <td>F</td>\n",
       "      <td>K</td>\n",
       "      <td>71</td>\n",
       "      <td>0</td>\n",
       "      <td>25-44</td>\n",
       "      <td>M</td>\n",
       "      <td>BLACK</td>\n",
       "      <td>1001437</td>\n",
       "      <td>183080</td>\n",
       "      <td>40.669175</td>\n",
       "      <td>-73.938042</td>\n",
       "      <td>POINT (-73.938042 40.669175)</td>\n",
       "    </tr>\n",
       "  </tbody>\n",
       "</table>\n",
       "</div>"
      ],
      "text/plain": [
       "   ARREST_KEY ARREST_DATE  PD_CD                      PD_DESC  KY_CD  \\\n",
       "0   261209118  01/01/2023    109     ASSAULT 2,1,UNCLASSIFIED  106.0   \n",
       "1   262984267  02/03/2023    515  CONTROLLED SUBSTANCE,SALE 3  117.0   \n",
       "2   263664549  02/15/2023    105            STRANGULATION 1ST  106.0   \n",
       "3   261345231  01/04/2023    105            STRANGULATION 1ST  106.0   \n",
       "4   263536618  02/13/2023    109     ASSAULT 2,1,UNCLASSIFIED  106.0   \n",
       "\n",
       "         OFNS_DESC    LAW_CODE LAW_CAT_CD ARREST_BORO  ARREST_PRECINCT  \\\n",
       "0   FELONY ASSAULT  PL 1200501          F           K               77   \n",
       "1  DANGEROUS DRUGS  PL 2203901          F           K               73   \n",
       "2   FELONY ASSAULT  PL 1211200          F           K               62   \n",
       "3   FELONY ASSAULT  PL 1211200          F           M               32   \n",
       "4   FELONY ASSAULT  PL 12005WX          F           K               71   \n",
       "\n",
       "   JURISDICTION_CODE AGE_GROUP PERP_SEX PERP_RACE  X_COORD_CD  Y_COORD_CD  \\\n",
       "0                  0     45-64        F     BLACK      999335      186085   \n",
       "1                  0     25-44        M     BLACK     1009318      178259   \n",
       "2                  0     25-44        M     WHITE      982272      158771   \n",
       "3                  0     25-44        M     BLACK      999899      238684   \n",
       "4                  0     25-44        M     BLACK     1001437      183080   \n",
       "\n",
       "    Latitude  Longitude      New Georeferenced Column  \n",
       "0  40.677426 -73.945615  POINT (-73.945615 40.677426)  \n",
       "1  40.655923 -73.909650   POINT (-73.90965 40.655923)  \n",
       "2  40.602468 -74.007120   POINT (-74.00712 40.602468)  \n",
       "3  40.821797 -73.943457  POINT (-73.943457 40.821797)  \n",
       "4  40.669175 -73.938042  POINT (-73.938042 40.669175)  "
      ]
     },
     "execution_count": 4,
     "metadata": {},
     "output_type": "execute_result"
    }
   ],
   "source": [
    "df.head()"
   ]
  },
  {
   "cell_type": "code",
   "execution_count": 5,
   "id": "aecfe7dc",
   "metadata": {},
   "outputs": [
    {
     "data": {
      "text/plain": [
       "(170095, 19)"
      ]
     },
     "execution_count": 5,
     "metadata": {},
     "output_type": "execute_result"
    }
   ],
   "source": [
    "#Checking data size\n",
    "df.shape"
   ]
  },
  {
   "cell_type": "code",
   "execution_count": 6,
   "id": "ad818a7e",
   "metadata": {},
   "outputs": [
    {
     "data": {
      "text/plain": [
       "ARREST_KEY                    int64\n",
       "ARREST_DATE                  object\n",
       "PD_CD                         int64\n",
       "PD_DESC                      object\n",
       "KY_CD                       float64\n",
       "OFNS_DESC                    object\n",
       "LAW_CODE                     object\n",
       "LAW_CAT_CD                   object\n",
       "ARREST_BORO                  object\n",
       "ARREST_PRECINCT               int64\n",
       "JURISDICTION_CODE             int64\n",
       "AGE_GROUP                    object\n",
       "PERP_SEX                     object\n",
       "PERP_RACE                    object\n",
       "X_COORD_CD                    int64\n",
       "Y_COORD_CD                    int64\n",
       "Latitude                    float64\n",
       "Longitude                   float64\n",
       "New Georeferenced Column     object\n",
       "dtype: object"
      ]
     },
     "execution_count": 6,
     "metadata": {},
     "output_type": "execute_result"
    }
   ],
   "source": [
    "#Checking columns and data types\n",
    "df.dtypes"
   ]
  },
  {
   "cell_type": "code",
   "execution_count": 7,
   "id": "8d795a62",
   "metadata": {},
   "outputs": [
    {
     "data": {
      "text/plain": [
       "ARREST_KEY                     0\n",
       "ARREST_DATE                    0\n",
       "PD_CD                          0\n",
       "PD_DESC                        0\n",
       "KY_CD                         13\n",
       "OFNS_DESC                      0\n",
       "LAW_CODE                       0\n",
       "LAW_CAT_CD                  1257\n",
       "ARREST_BORO                    0\n",
       "ARREST_PRECINCT                0\n",
       "JURISDICTION_CODE              0\n",
       "AGE_GROUP                      0\n",
       "PERP_SEX                       0\n",
       "PERP_RACE                      0\n",
       "X_COORD_CD                     0\n",
       "Y_COORD_CD                     0\n",
       "Latitude                       0\n",
       "Longitude                      0\n",
       "New Georeferenced Column       0\n",
       "dtype: int64"
      ]
     },
     "execution_count": 7,
     "metadata": {},
     "output_type": "execute_result"
    }
   ],
   "source": [
    "#Checking missing values\n",
    "df.isna().sum()"
   ]
  },
  {
   "cell_type": "markdown",
   "id": "2455734e",
   "metadata": {},
   "source": [
    "COLUMN DESCRIPTION\n",
    "\n",
    "ARREST_KEY\t  Randomly generated persistent ID for each arrest \n",
    "ARREST_DATE   Exact date of arrest for the reported event\n",
    "PD_CD\t      Three digit internal classification code (more granular than Key                                                           Code)\n",
    "PD_DESC\t      Description of internal classification corresponding with PD code               (more granular than Offense Description)\n",
    "KY_CD\t      Three digit internal classification code (more general category                 than PD code)\n",
    "OFNS_DESC\t  Description of internal classification corresponding with KY code               (more general category than PD description)\n",
    "LAW_CODE\t  Law code charges corresponding to the NYS Penal Law, VTL and                   other various local laws\n",
    "LAW_CAT_CD\t  Level of offense: felony, misdemeanor, violation \n",
    "ARREST_BORO\t  Borough of arrest. B(Bronx), S(Staten Island), K(Brooklyn),                     M(Manhattan), Q(Queens)\n",
    "\n",
    "ARREST_PRECINCT\t    Precinct where the arrest occurred\n",
    "JURISDICTION_CODE\tJurisdiction responsible for arrest. Jurisdiction codes                         0(Patrol), 1(Transit) and 2(Housing) represent NYPD whilst                     codes 3 and more represent non NYPD jurisdictions\n",
    "AGE_GROUP\t Perpetrator’s age within a category\n",
    "PERP_SEX\t Perpetrator’s sex description\n",
    "PERP_RACE\t Perpetrator’s race description\n"
   ]
  },
  {
   "cell_type": "code",
   "execution_count": 8,
   "id": "7e09e7e6",
   "metadata": {},
   "outputs": [
    {
     "data": {
      "text/plain": [
       "ARREST_KEY                     0\n",
       "ARREST_DATE                    0\n",
       "PD_CD                          0\n",
       "PD_DESC                        0\n",
       "KY_CD                         13\n",
       "OFNS_DESC                      0\n",
       "LAW_CODE                       0\n",
       "LAW_CAT_CD                  1257\n",
       "ARREST_BORO                    0\n",
       "ARREST_PRECINCT                0\n",
       "JURISDICTION_CODE              0\n",
       "AGE_GROUP                      0\n",
       "PERP_SEX                       0\n",
       "PERP_RACE                      0\n",
       "X_COORD_CD                     0\n",
       "Y_COORD_CD                     0\n",
       "Latitude                       0\n",
       "Longitude                      0\n",
       "New Georeferenced Column       0\n",
       "dtype: int64"
      ]
     },
     "execution_count": 8,
     "metadata": {},
     "output_type": "execute_result"
    }
   ],
   "source": [
    "#Checking null values \n",
    "df.isnull().sum()"
   ]
  },
  {
   "cell_type": "code",
   "execution_count": 9,
   "id": "5794780d",
   "metadata": {},
   "outputs": [],
   "source": [
    "#Dropping unrelated columns \n",
    "df.drop(['New Georeferenced Column','LAW_CAT_CD','LAW_CODE','KY_CD','JURISDICTION_CODE','ARREST_PRECINCT','ARREST_KEY'],axis='columns',inplace=True) "
   ]
  },
  {
   "cell_type": "code",
   "execution_count": 10,
   "id": "d7012fb2",
   "metadata": {},
   "outputs": [],
   "source": [
    "df.drop(['PD_CD','X_COORD_CD','Y_COORD_CD','Latitude','Longitude'],axis='columns',inplace=True)"
   ]
  },
  {
   "cell_type": "code",
   "execution_count": 11,
   "id": "524a37cb",
   "metadata": {},
   "outputs": [
    {
     "data": {
      "text/html": [
       "<div>\n",
       "<style scoped>\n",
       "    .dataframe tbody tr th:only-of-type {\n",
       "        vertical-align: middle;\n",
       "    }\n",
       "\n",
       "    .dataframe tbody tr th {\n",
       "        vertical-align: top;\n",
       "    }\n",
       "\n",
       "    .dataframe thead th {\n",
       "        text-align: right;\n",
       "    }\n",
       "</style>\n",
       "<table border=\"1\" class=\"dataframe\">\n",
       "  <thead>\n",
       "    <tr style=\"text-align: right;\">\n",
       "      <th></th>\n",
       "      <th>ARREST_DATE</th>\n",
       "      <th>PD_DESC</th>\n",
       "      <th>OFNS_DESC</th>\n",
       "      <th>ARREST_BORO</th>\n",
       "      <th>AGE_GROUP</th>\n",
       "      <th>PERP_SEX</th>\n",
       "      <th>PERP_RACE</th>\n",
       "    </tr>\n",
       "  </thead>\n",
       "  <tbody>\n",
       "    <tr>\n",
       "      <th>0</th>\n",
       "      <td>01/01/2023</td>\n",
       "      <td>ASSAULT 2,1,UNCLASSIFIED</td>\n",
       "      <td>FELONY ASSAULT</td>\n",
       "      <td>K</td>\n",
       "      <td>45-64</td>\n",
       "      <td>F</td>\n",
       "      <td>BLACK</td>\n",
       "    </tr>\n",
       "    <tr>\n",
       "      <th>1</th>\n",
       "      <td>02/03/2023</td>\n",
       "      <td>CONTROLLED SUBSTANCE,SALE 3</td>\n",
       "      <td>DANGEROUS DRUGS</td>\n",
       "      <td>K</td>\n",
       "      <td>25-44</td>\n",
       "      <td>M</td>\n",
       "      <td>BLACK</td>\n",
       "    </tr>\n",
       "    <tr>\n",
       "      <th>2</th>\n",
       "      <td>02/15/2023</td>\n",
       "      <td>STRANGULATION 1ST</td>\n",
       "      <td>FELONY ASSAULT</td>\n",
       "      <td>K</td>\n",
       "      <td>25-44</td>\n",
       "      <td>M</td>\n",
       "      <td>WHITE</td>\n",
       "    </tr>\n",
       "    <tr>\n",
       "      <th>3</th>\n",
       "      <td>01/04/2023</td>\n",
       "      <td>STRANGULATION 1ST</td>\n",
       "      <td>FELONY ASSAULT</td>\n",
       "      <td>M</td>\n",
       "      <td>25-44</td>\n",
       "      <td>M</td>\n",
       "      <td>BLACK</td>\n",
       "    </tr>\n",
       "    <tr>\n",
       "      <th>4</th>\n",
       "      <td>02/13/2023</td>\n",
       "      <td>ASSAULT 2,1,UNCLASSIFIED</td>\n",
       "      <td>FELONY ASSAULT</td>\n",
       "      <td>K</td>\n",
       "      <td>25-44</td>\n",
       "      <td>M</td>\n",
       "      <td>BLACK</td>\n",
       "    </tr>\n",
       "  </tbody>\n",
       "</table>\n",
       "</div>"
      ],
      "text/plain": [
       "  ARREST_DATE                      PD_DESC        OFNS_DESC ARREST_BORO  \\\n",
       "0  01/01/2023     ASSAULT 2,1,UNCLASSIFIED   FELONY ASSAULT           K   \n",
       "1  02/03/2023  CONTROLLED SUBSTANCE,SALE 3  DANGEROUS DRUGS           K   \n",
       "2  02/15/2023            STRANGULATION 1ST   FELONY ASSAULT           K   \n",
       "3  01/04/2023            STRANGULATION 1ST   FELONY ASSAULT           M   \n",
       "4  02/13/2023     ASSAULT 2,1,UNCLASSIFIED   FELONY ASSAULT           K   \n",
       "\n",
       "  AGE_GROUP PERP_SEX PERP_RACE  \n",
       "0     45-64        F     BLACK  \n",
       "1     25-44        M     BLACK  \n",
       "2     25-44        M     WHITE  \n",
       "3     25-44        M     BLACK  \n",
       "4     25-44        M     BLACK  "
      ]
     },
     "execution_count": 11,
     "metadata": {},
     "output_type": "execute_result"
    }
   ],
   "source": [
    "#Checking the data\n",
    "df.head()"
   ]
  },
  {
   "cell_type": "code",
   "execution_count": 12,
   "id": "d62b944d",
   "metadata": {},
   "outputs": [],
   "source": [
    "#Replacing 'Nan' values to 'unknown'\n",
    "df.fillna(('unknown'),inplace=True)"
   ]
  },
  {
   "cell_type": "code",
   "execution_count": 13,
   "id": "268003ea",
   "metadata": {},
   "outputs": [
    {
     "data": {
      "text/plain": [
       "array(['FELONY ASSAULT', 'DANGEROUS DRUGS', 'RAPE', 'FORGERY', 'BURGLARY',\n",
       "       'ARSON', 'ASSAULT 3 & RELATED OFFENSES', 'ROBBERY',\n",
       "       'PETIT LARCENY', 'DANGEROUS WEAPONS', 'MISCELLANEOUS PENAL LAW',\n",
       "       'HARRASSMENT 2', 'OFF. AGNST PUB ORD SENSBLTY &', 'JOSTLING',\n",
       "       'SEX CRIMES', '(null)', 'FRAUDS', 'ESCAPE 3', \"BURGLAR'S TOOLS\",\n",
       "       'VEHICLE AND TRAFFIC LAWS', 'OFFENSES AGAINST THE PERSON',\n",
       "       'OFFENSES INVOLVING FRAUD', 'INTOXICATED & IMPAIRED DRIVING',\n",
       "       'FOR OTHER AUTHORITIES', 'OTHER OFFENSES RELATED TO THEF',\n",
       "       'POSSESSION OF STOLEN PROPERTY', 'OTHER TRAFFIC INFRACTION',\n",
       "       'GRAND LARCENY', 'CRIMINAL MISCHIEF & RELATED OF',\n",
       "       'OTHER STATE LAWS (NON PENAL LA',\n",
       "       'PROSTITUTION & RELATED OFFENSES', 'GAMBLING', 'CRIMINAL TRESPASS',\n",
       "       'OFFENSES AGAINST PUBLIC ADMINI', 'MURDER & NON-NEGL. MANSLAUGHTE',\n",
       "       'OTHER STATE LAWS', 'CANNABIS RELATED OFFENSES',\n",
       "       'NYS LAWS-UNCLASSIFIED FELONY', 'OFFENSES AGAINST PUBLIC SAFETY',\n",
       "       'GRAND LARCENY OF MOTOR VEHICLE', 'UNAUTHORIZED USE OF A VEHICLE',\n",
       "       'ADMINISTRATIVE CODE', 'OFFENSES RELATED TO CHILDREN',\n",
       "       'THEFT-FRAUD', 'INTOXICATED/IMPAIRED DRIVING',\n",
       "       'ANTICIPATORY OFFENSES', 'FRAUDULENT ACCOSTING',\n",
       "       'THEFT OF SERVICES', 'ENDAN WELFARE INCOMP',\n",
       "       'OTHER STATE LAWS (NON PENAL LAW)',\n",
       "       'ALCOHOLIC BEVERAGE CONTROL LAW', 'MOVING INFRACTIONS',\n",
       "       'DISORDERLY CONDUCT', 'KIDNAPPING & RELATED OFFENSES',\n",
       "       'AGRICULTURE & MRKTS LAW-UNCLASSIFIED',\n",
       "       'HOMICIDE-NEGLIGENT,UNCLASSIFIE', 'PARKING OFFENSES',\n",
       "       'CHILD ABANDONMENT/NON SUPPORT', 'KIDNAPPING',\n",
       "       'UNLAWFUL POSS. WEAP. ON SCHOOL', 'DISRUPTION OF A RELIGIOUS SERV',\n",
       "       'HOMICIDE-NEGLIGENT-VEHICLE', 'FELONY SEX CRIMES',\n",
       "       'ADMINISTRATIVE CODES'], dtype=object)"
      ]
     },
     "execution_count": 13,
     "metadata": {},
     "output_type": "execute_result"
    }
   ],
   "source": [
    "df.OFNS_DESC.unique()"
   ]
  },
  {
   "cell_type": "code",
   "execution_count": 14,
   "id": "3f5df112",
   "metadata": {},
   "outputs": [
    {
     "data": {
      "text/plain": [
       "array(['01/01/2023', '02/03/2023', '02/15/2023', '01/04/2023',\n",
       "       '02/13/2023', '01/17/2023', '01/23/2023', '03/04/2023',\n",
       "       '01/25/2023', '03/17/2023', '01/30/2023', '02/02/2023',\n",
       "       '02/09/2023', '04/04/2023', '03/03/2023', '04/13/2023',\n",
       "       '04/25/2023', '03/16/2023', '02/18/2023', '03/21/2023',\n",
       "       '05/04/2023', '05/03/2023', '02/26/2023', '05/18/2023',\n",
       "       '04/21/2023', '04/23/2023', '05/05/2023', '06/14/2023',\n",
       "       '06/18/2023', '05/16/2023', '04/19/2023', '05/23/2023',\n",
       "       '07/05/2023', '07/10/2023', '05/01/2023', '05/02/2023',\n",
       "       '06/08/2023', '05/20/2023', '07/02/2023', '07/04/2023',\n",
       "       '06/03/2023', '08/25/2023', '06/24/2023', '09/03/2023',\n",
       "       '06/20/2023', '09/14/2023', '07/19/2023', '08/02/2023',\n",
       "       '09/16/2023', '08/29/2023', '08/30/2023', '09/11/2023',\n",
       "       '02/22/2023', '04/22/2023', '05/25/2023', '01/13/2023',\n",
       "       '01/19/2023', '07/17/2023', '02/05/2023', '07/31/2023',\n",
       "       '01/10/2023', '03/14/2023', '08/17/2023', '03/07/2023',\n",
       "       '04/03/2023', '03/15/2023', '04/10/2023', '02/16/2023',\n",
       "       '04/29/2023', '03/06/2023', '05/14/2023', '03/22/2023',\n",
       "       '09/26/2023', '06/05/2023', '04/27/2023', '05/15/2023',\n",
       "       '09/25/2023', '09/08/2023', '02/01/2023', '07/24/2023',\n",
       "       '08/08/2023', '04/28/2023', '05/24/2023', '04/08/2023',\n",
       "       '02/20/2023', '03/25/2023', '03/31/2023', '07/21/2023',\n",
       "       '09/19/2023', '07/15/2023', '01/09/2023', '01/11/2023',\n",
       "       '07/16/2023', '08/24/2023', '04/09/2023', '06/21/2023',\n",
       "       '07/03/2023', '08/27/2023', '01/14/2023', '02/25/2023',\n",
       "       '02/27/2023', '04/05/2023', '05/26/2023', '05/30/2023',\n",
       "       '08/07/2023', '04/20/2023', '03/18/2023', '01/06/2023',\n",
       "       '02/07/2023', '03/10/2023', '02/28/2023', '02/19/2023',\n",
       "       '03/19/2023', '01/03/2023', '02/17/2023', '02/24/2023',\n",
       "       '03/11/2023', '02/23/2023', '03/08/2023', '02/11/2023',\n",
       "       '04/01/2023', '04/14/2023', '03/26/2023', '01/26/2023',\n",
       "       '01/02/2023', '02/04/2023', '01/24/2023', '02/06/2023',\n",
       "       '03/05/2023', '01/31/2023', '03/01/2023', '03/09/2023',\n",
       "       '04/16/2023', '03/30/2023', '01/07/2023', '04/07/2023',\n",
       "       '01/22/2023', '01/12/2023', '04/06/2023', '03/20/2023',\n",
       "       '01/16/2023', '03/29/2023', '01/15/2023', '02/10/2023',\n",
       "       '01/20/2023', '05/28/2023', '04/26/2023', '04/17/2023',\n",
       "       '05/12/2023', '02/12/2023', '03/28/2023', '04/18/2023',\n",
       "       '05/31/2023', '05/13/2023', '02/14/2023', '03/02/2023',\n",
       "       '03/12/2023', '05/29/2023', '01/29/2023', '02/08/2023',\n",
       "       '05/17/2023', '01/27/2023', '03/13/2023', '05/10/2023',\n",
       "       '03/27/2023', '01/28/2023', '04/24/2023', '03/23/2023',\n",
       "       '05/07/2023', '04/02/2023', '02/21/2023', '06/01/2023',\n",
       "       '04/11/2023', '01/05/2023', '05/27/2023', '04/12/2023',\n",
       "       '05/09/2023', '01/08/2023', '04/15/2023', '01/18/2023',\n",
       "       '05/21/2023', '05/19/2023', '05/11/2023', '03/24/2023',\n",
       "       '01/21/2023', '04/30/2023', '05/06/2023', '05/08/2023',\n",
       "       '05/22/2023', '06/02/2023', '06/28/2023', '06/06/2023',\n",
       "       '07/26/2023', '07/18/2023', '08/14/2023', '08/13/2023',\n",
       "       '08/11/2023', '07/23/2023', '09/06/2023', '08/04/2023',\n",
       "       '08/21/2023', '07/06/2023', '07/14/2023', '06/09/2023',\n",
       "       '06/10/2023', '09/09/2023', '07/11/2023', '06/15/2023',\n",
       "       '06/29/2023', '08/12/2023', '07/20/2023', '08/31/2023',\n",
       "       '06/07/2023', '09/17/2023', '08/18/2023', '08/19/2023',\n",
       "       '06/19/2023', '08/20/2023', '06/22/2023', '06/16/2023',\n",
       "       '06/23/2023', '06/13/2023', '09/01/2023', '08/10/2023',\n",
       "       '06/27/2023', '07/01/2023', '07/12/2023', '07/27/2023',\n",
       "       '07/25/2023', '06/25/2023', '06/30/2023', '07/08/2023',\n",
       "       '07/13/2023', '08/23/2023', '08/09/2023', '08/16/2023',\n",
       "       '06/04/2023', '06/12/2023', '09/04/2023', '09/18/2023',\n",
       "       '09/05/2023', '08/01/2023', '09/13/2023', '06/26/2023',\n",
       "       '09/10/2023', '07/22/2023', '06/17/2023', '08/03/2023',\n",
       "       '06/11/2023', '09/15/2023', '09/12/2023', '09/07/2023',\n",
       "       '07/07/2023', '07/09/2023', '08/06/2023', '09/02/2023',\n",
       "       '07/28/2023', '08/15/2023', '08/28/2023', '07/29/2023',\n",
       "       '08/05/2023', '09/20/2023', '07/30/2023', '08/22/2023',\n",
       "       '08/26/2023', '09/21/2023', '09/24/2023', '09/29/2023',\n",
       "       '09/27/2023', '09/30/2023', '09/28/2023', '09/22/2023',\n",
       "       '09/23/2023'], dtype=object)"
      ]
     },
     "execution_count": 14,
     "metadata": {},
     "output_type": "execute_result"
    }
   ],
   "source": [
    "#Checking dates\n",
    "df.ARREST_DATE.unique()"
   ]
  },
  {
   "cell_type": "code",
   "execution_count": 15,
   "id": "e6202b40",
   "metadata": {},
   "outputs": [
    {
     "data": {
      "text/plain": [
       "<Axes: title={'center': \"NYC's TOP 10 CATEGORIES of CRIMES 2023\"}, ylabel='OFNS_DESC'>"
      ]
     },
     "execution_count": 15,
     "metadata": {},
     "output_type": "execute_result"
    },
    {
     "data": {
      "image/png": "[encoded data removed]",
      "text/plain": [
       "<Figure size 640x480 with 1 Axes>"
      ]
     },
     "metadata": {},
     "output_type": "display_data"
    }
   ],
   "source": [
    "#plotting the top ten categories of criminal activity\n",
    "df.OFNS_DESC.value_counts().iloc[:10]\n",
    "df.OFNS_DESC.value_counts().iloc[:10].sort_values().plot(kind=\"barh\", title = \"NYC's TOP 10 CATEGORIES of CRIMES 2023\")"
   ]
  },
  {
   "cell_type": "code",
   "execution_count": 16,
   "id": "9bded366",
   "metadata": {},
   "outputs": [
    {
     "data": {
      "text/plain": [
       "<Axes: title={'center': \"NYC's Total Crime Events by Month for the year 2023\"}, xlabel='Month'>"
      ]
     },
     "execution_count": 16,
     "metadata": {},
     "output_type": "execute_result"
    },
    {
     "data": {
      "image/png": "[encoded data removed]",
      "text/plain": [
       "<Figure size 640x480 with 1 Axes>"
      ]
     },
     "metadata": {},
     "output_type": "display_data"
    }
   ],
   "source": [
    "#PLotting crime events by month\n",
    "df['Month'] = df['ARREST_DATE'].str.findall('(\\d{2})').apply(lambda x: x[0])\n",
    "df.groupby('Month').size().plot(kind = 'bar', title =\"NYC's Total Crime Events by Month for the year 2023\", color = 'firebrick',rot=0)"
   ]
  },
  {
   "cell_type": "code",
   "execution_count": 17,
   "id": "14e7372c",
   "metadata": {},
   "outputs": [
    {
     "data": {
      "text/plain": [
       "<Axes: title={'center': \"NYC's Total of Crime Events by Borough for the year 2023\"}, xlabel='ARREST_BORO'>"
      ]
     },
     "execution_count": 17,
     "metadata": {},
     "output_type": "execute_result"
    },
    {
     "data": {
      "image/png": "[encoded data removed]",
      "text/plain": [
       "<Figure size 640x480 with 1 Axes>"
      ]
     },
     "metadata": {},
     "output_type": "display_data"
    }
   ],
   "source": [
    "#Plotting total crimes by borough\n",
    "df['ARREST_BORO'].value_counts().sort_values().plot(kind=\"bar\", color = 'firebrick', title = \"NYC's Total of Crime Events by Borough for the year 2023\")"
   ]
  },
  {
   "cell_type": "code",
   "execution_count": 18,
   "id": "dbe7bfd5",
   "metadata": {},
   "outputs": [
    {
     "data": {
      "text/html": [
       "<div>\n",
       "<style scoped>\n",
       "    .dataframe tbody tr th:only-of-type {\n",
       "        vertical-align: middle;\n",
       "    }\n",
       "\n",
       "    .dataframe tbody tr th {\n",
       "        vertical-align: top;\n",
       "    }\n",
       "\n",
       "    .dataframe thead th {\n",
       "        text-align: right;\n",
       "    }\n",
       "</style>\n",
       "<table border=\"1\" class=\"dataframe\">\n",
       "  <thead>\n",
       "    <tr style=\"text-align: right;\">\n",
       "      <th></th>\n",
       "      <th>ARREST_DATE</th>\n",
       "      <th>PD_DESC</th>\n",
       "      <th>OFNS_DESC</th>\n",
       "      <th>ARREST_BORO</th>\n",
       "      <th>AGE_GROUP</th>\n",
       "      <th>PERP_SEX</th>\n",
       "      <th>PERP_RACE</th>\n",
       "      <th>Month</th>\n",
       "    </tr>\n",
       "  </thead>\n",
       "  <tbody>\n",
       "    <tr>\n",
       "      <th>5</th>\n",
       "      <td>01/17/2023</td>\n",
       "      <td>STRANGULATION 1ST</td>\n",
       "      <td>FELONY ASSAULT</td>\n",
       "      <td>Q</td>\n",
       "      <td>45-64</td>\n",
       "      <td>F</td>\n",
       "      <td>BLACK</td>\n",
       "      <td>01</td>\n",
       "    </tr>\n",
       "    <tr>\n",
       "      <th>11</th>\n",
       "      <td>02/02/2023</td>\n",
       "      <td>ASSAULT 3</td>\n",
       "      <td>ASSAULT 3 &amp; RELATED OFFENSES</td>\n",
       "      <td>Q</td>\n",
       "      <td>&lt;18</td>\n",
       "      <td>M</td>\n",
       "      <td>BLACK</td>\n",
       "      <td>02</td>\n",
       "    </tr>\n",
       "    <tr>\n",
       "      <th>18</th>\n",
       "      <td>02/18/2023</td>\n",
       "      <td>ASSAULT 3</td>\n",
       "      <td>ASSAULT 3 &amp; RELATED OFFENSES</td>\n",
       "      <td>Q</td>\n",
       "      <td>18-24</td>\n",
       "      <td>M</td>\n",
       "      <td>BLACK</td>\n",
       "      <td>02</td>\n",
       "    </tr>\n",
       "    <tr>\n",
       "      <th>22</th>\n",
       "      <td>05/03/2023</td>\n",
       "      <td>RAPE 3</td>\n",
       "      <td>RAPE</td>\n",
       "      <td>Q</td>\n",
       "      <td>18-24</td>\n",
       "      <td>M</td>\n",
       "      <td>BLACK</td>\n",
       "      <td>05</td>\n",
       "    </tr>\n",
       "    <tr>\n",
       "      <th>29</th>\n",
       "      <td>06/14/2023</td>\n",
       "      <td>STRANGULATION 1ST</td>\n",
       "      <td>FELONY ASSAULT</td>\n",
       "      <td>Q</td>\n",
       "      <td>45-64</td>\n",
       "      <td>U</td>\n",
       "      <td>BLACK</td>\n",
       "      <td>06</td>\n",
       "    </tr>\n",
       "    <tr>\n",
       "      <th>...</th>\n",
       "      <td>...</td>\n",
       "      <td>...</td>\n",
       "      <td>...</td>\n",
       "      <td>...</td>\n",
       "      <td>...</td>\n",
       "      <td>...</td>\n",
       "      <td>...</td>\n",
       "      <td>...</td>\n",
       "    </tr>\n",
       "    <tr>\n",
       "      <th>170070</th>\n",
       "      <td>08/30/2023</td>\n",
       "      <td>FORGERY,ETC.-MISD.</td>\n",
       "      <td>OFFENSES INVOLVING FRAUD</td>\n",
       "      <td>Q</td>\n",
       "      <td>25-44</td>\n",
       "      <td>F</td>\n",
       "      <td>WHITE HISPANIC</td>\n",
       "      <td>08</td>\n",
       "    </tr>\n",
       "    <tr>\n",
       "      <th>170080</th>\n",
       "      <td>08/17/2023</td>\n",
       "      <td>AGGRAVATED HARASSMENT 2</td>\n",
       "      <td>OFF. AGNST PUB ORD SENSBLTY &amp;</td>\n",
       "      <td>Q</td>\n",
       "      <td>45-64</td>\n",
       "      <td>M</td>\n",
       "      <td>WHITE HISPANIC</td>\n",
       "      <td>08</td>\n",
       "    </tr>\n",
       "    <tr>\n",
       "      <th>170081</th>\n",
       "      <td>06/13/2023</td>\n",
       "      <td>FORGERY,ETC.,UNCLASSIFIED-FELO</td>\n",
       "      <td>FORGERY</td>\n",
       "      <td>Q</td>\n",
       "      <td>18-24</td>\n",
       "      <td>M</td>\n",
       "      <td>BLACK</td>\n",
       "      <td>06</td>\n",
       "    </tr>\n",
       "    <tr>\n",
       "      <th>170084</th>\n",
       "      <td>05/25/2023</td>\n",
       "      <td>PUBLIC ADMINISTRATION,UNCLASSI</td>\n",
       "      <td>MISCELLANEOUS PENAL LAW</td>\n",
       "      <td>Q</td>\n",
       "      <td>25-44</td>\n",
       "      <td>M</td>\n",
       "      <td>WHITE</td>\n",
       "      <td>05</td>\n",
       "    </tr>\n",
       "    <tr>\n",
       "      <th>170086</th>\n",
       "      <td>07/25/2023</td>\n",
       "      <td>TRAFFIC,UNCLASSIFIED INFRACTIO</td>\n",
       "      <td>OTHER TRAFFIC INFRACTION</td>\n",
       "      <td>Q</td>\n",
       "      <td>25-44</td>\n",
       "      <td>M</td>\n",
       "      <td>WHITE HISPANIC</td>\n",
       "      <td>07</td>\n",
       "    </tr>\n",
       "  </tbody>\n",
       "</table>\n",
       "<p>36246 rows × 8 columns</p>\n",
       "</div>"
      ],
      "text/plain": [
       "       ARREST_DATE                         PD_DESC  \\\n",
       "5       01/17/2023               STRANGULATION 1ST   \n",
       "11      02/02/2023                       ASSAULT 3   \n",
       "18      02/18/2023                       ASSAULT 3   \n",
       "22      05/03/2023                          RAPE 3   \n",
       "29      06/14/2023               STRANGULATION 1ST   \n",
       "...            ...                             ...   \n",
       "170070  08/30/2023              FORGERY,ETC.-MISD.   \n",
       "170080  08/17/2023         AGGRAVATED HARASSMENT 2   \n",
       "170081  06/13/2023  FORGERY,ETC.,UNCLASSIFIED-FELO   \n",
       "170084  05/25/2023  PUBLIC ADMINISTRATION,UNCLASSI   \n",
       "170086  07/25/2023  TRAFFIC,UNCLASSIFIED INFRACTIO   \n",
       "\n",
       "                            OFNS_DESC ARREST_BORO AGE_GROUP PERP_SEX  \\\n",
       "5                      FELONY ASSAULT           Q     45-64        F   \n",
       "11       ASSAULT 3 & RELATED OFFENSES           Q       <18        M   \n",
       "18       ASSAULT 3 & RELATED OFFENSES           Q     18-24        M   \n",
       "22                               RAPE           Q     18-24        M   \n",
       "29                     FELONY ASSAULT           Q     45-64        U   \n",
       "...                               ...         ...       ...      ...   \n",
       "170070       OFFENSES INVOLVING FRAUD           Q     25-44        F   \n",
       "170080  OFF. AGNST PUB ORD SENSBLTY &           Q     45-64        M   \n",
       "170081                        FORGERY           Q     18-24        M   \n",
       "170084        MISCELLANEOUS PENAL LAW           Q     25-44        M   \n",
       "170086       OTHER TRAFFIC INFRACTION           Q     25-44        M   \n",
       "\n",
       "             PERP_RACE Month  \n",
       "5                BLACK    01  \n",
       "11               BLACK    02  \n",
       "18               BLACK    02  \n",
       "22               BLACK    05  \n",
       "29               BLACK    06  \n",
       "...                ...   ...  \n",
       "170070  WHITE HISPANIC    08  \n",
       "170080  WHITE HISPANIC    08  \n",
       "170081           BLACK    06  \n",
       "170084           WHITE    05  \n",
       "170086  WHITE HISPANIC    07  \n",
       "\n",
       "[36246 rows x 8 columns]"
      ]
     },
     "execution_count": 18,
     "metadata": {},
     "output_type": "execute_result"
    }
   ],
   "source": [
    "#Analyzing data for Queens Borough\n",
    "QB_df = df[df.ARREST_BORO.str.contains('Q')]\n",
    "QB_df"
   ]
  },
  {
   "cell_type": "code",
   "execution_count": 19,
   "id": "d36f5e78",
   "metadata": {},
   "outputs": [
    {
     "data": {
      "text/plain": [
       "<Axes: title={'center': 'TOP 10 TYPE OF CRIMES IN QUEENS 2023'}, ylabel='OFNS_DESC'>"
      ]
     },
     "execution_count": 19,
     "metadata": {},
     "output_type": "execute_result"
    },
    {
     "data": {
      "image/png": "[encoded data removed]",
      "text/plain": [
       "<Figure size 640x480 with 1 Axes>"
      ]
     },
     "metadata": {},
     "output_type": "display_data"
    }
   ],
   "source": [
    "#Queens Borough's top ten most common crime type\n",
    "QB_df.OFNS_DESC.value_counts().iloc[:10].sort_values()\n",
    "QB_df.OFNS_DESC.value_counts().iloc[:10].sort_values().plot(kind=\"barh\", title = \"TOP 10 TYPE OF CRIMES IN QUEENS 2023\")"
   ]
  },
  {
   "cell_type": "code",
   "execution_count": 20,
   "id": "d24e2f5a",
   "metadata": {},
   "outputs": [
    {
     "name": "stderr",
     "output_type": "stream",
     "text": [
      "C:\\Users\\Asus\\AppData\\Local\\Temp\\ipykernel_10052\\3377799827.py:2: UserWarning: Boolean Series key will be reindexed to match DataFrame index.\n",
      "  assault_Qdf = QB_df[df.OFNS_DESC.str.contains('ASSAULT 3 & RELATED OFFENSES')]\n"
     ]
    },
    {
     "data": {
      "text/html": [
       "<div>\n",
       "<style scoped>\n",
       "    .dataframe tbody tr th:only-of-type {\n",
       "        vertical-align: middle;\n",
       "    }\n",
       "\n",
       "    .dataframe tbody tr th {\n",
       "        vertical-align: top;\n",
       "    }\n",
       "\n",
       "    .dataframe thead th {\n",
       "        text-align: right;\n",
       "    }\n",
       "</style>\n",
       "<table border=\"1\" class=\"dataframe\">\n",
       "  <thead>\n",
       "    <tr style=\"text-align: right;\">\n",
       "      <th></th>\n",
       "      <th>ARREST_DATE</th>\n",
       "      <th>PD_DESC</th>\n",
       "      <th>OFNS_DESC</th>\n",
       "      <th>ARREST_BORO</th>\n",
       "      <th>AGE_GROUP</th>\n",
       "      <th>PERP_SEX</th>\n",
       "      <th>PERP_RACE</th>\n",
       "      <th>Month</th>\n",
       "    </tr>\n",
       "  </thead>\n",
       "  <tbody>\n",
       "    <tr>\n",
       "      <th>11</th>\n",
       "      <td>02/02/2023</td>\n",
       "      <td>ASSAULT 3</td>\n",
       "      <td>ASSAULT 3 &amp; RELATED OFFENSES</td>\n",
       "      <td>Q</td>\n",
       "      <td>&lt;18</td>\n",
       "      <td>M</td>\n",
       "      <td>BLACK</td>\n",
       "      <td>02</td>\n",
       "    </tr>\n",
       "    <tr>\n",
       "      <th>18</th>\n",
       "      <td>02/18/2023</td>\n",
       "      <td>ASSAULT 3</td>\n",
       "      <td>ASSAULT 3 &amp; RELATED OFFENSES</td>\n",
       "      <td>Q</td>\n",
       "      <td>18-24</td>\n",
       "      <td>M</td>\n",
       "      <td>BLACK</td>\n",
       "      <td>02</td>\n",
       "    </tr>\n",
       "    <tr>\n",
       "      <th>51</th>\n",
       "      <td>09/14/2023</td>\n",
       "      <td>ASSAULT 3</td>\n",
       "      <td>ASSAULT 3 &amp; RELATED OFFENSES</td>\n",
       "      <td>Q</td>\n",
       "      <td>45-64</td>\n",
       "      <td>M</td>\n",
       "      <td>WHITE HISPANIC</td>\n",
       "      <td>09</td>\n",
       "    </tr>\n",
       "    <tr>\n",
       "      <th>67</th>\n",
       "      <td>07/17/2023</td>\n",
       "      <td>ASSAULT 3</td>\n",
       "      <td>ASSAULT 3 &amp; RELATED OFFENSES</td>\n",
       "      <td>Q</td>\n",
       "      <td>&lt;18</td>\n",
       "      <td>F</td>\n",
       "      <td>BLACK</td>\n",
       "      <td>07</td>\n",
       "    </tr>\n",
       "    <tr>\n",
       "      <th>129</th>\n",
       "      <td>01/14/2023</td>\n",
       "      <td>ASSAULT 3</td>\n",
       "      <td>ASSAULT 3 &amp; RELATED OFFENSES</td>\n",
       "      <td>Q</td>\n",
       "      <td>25-44</td>\n",
       "      <td>M</td>\n",
       "      <td>BLACK</td>\n",
       "      <td>01</td>\n",
       "    </tr>\n",
       "  </tbody>\n",
       "</table>\n",
       "</div>"
      ],
      "text/plain": [
       "    ARREST_DATE    PD_DESC                     OFNS_DESC ARREST_BORO  \\\n",
       "11   02/02/2023  ASSAULT 3  ASSAULT 3 & RELATED OFFENSES           Q   \n",
       "18   02/18/2023  ASSAULT 3  ASSAULT 3 & RELATED OFFENSES           Q   \n",
       "51   09/14/2023  ASSAULT 3  ASSAULT 3 & RELATED OFFENSES           Q   \n",
       "67   07/17/2023  ASSAULT 3  ASSAULT 3 & RELATED OFFENSES           Q   \n",
       "129  01/14/2023  ASSAULT 3  ASSAULT 3 & RELATED OFFENSES           Q   \n",
       "\n",
       "    AGE_GROUP PERP_SEX       PERP_RACE Month  \n",
       "11        <18        M           BLACK    02  \n",
       "18      18-24        M           BLACK    02  \n",
       "51      45-64        M  WHITE HISPANIC    09  \n",
       "67        <18        F           BLACK    07  \n",
       "129     25-44        M           BLACK    01  "
      ]
     },
     "execution_count": 20,
     "metadata": {},
     "output_type": "execute_result"
    }
   ],
   "source": [
    "#Analysis for Assault & Related Offenses for Queens Borough\n",
    "assault_Qdf = QB_df[df.OFNS_DESC.str.contains('ASSAULT 3 & RELATED OFFENSES')]\n",
    "assault_Qdf.head()\n"
   ]
  },
  {
   "cell_type": "code",
   "execution_count": 21,
   "id": "e19b22fd",
   "metadata": {},
   "outputs": [
    {
     "data": {
      "text/plain": [
       "(5746, 8)"
      ]
     },
     "execution_count": 21,
     "metadata": {},
     "output_type": "execute_result"
    }
   ],
   "source": [
    "#Checking data size\n",
    "assault_Qdf.shape"
   ]
  },
  {
   "cell_type": "code",
   "execution_count": 22,
   "id": "48701264",
   "metadata": {},
   "outputs": [
    {
     "data": {
      "text/html": [
       "<div>\n",
       "<style scoped>\n",
       "    .dataframe tbody tr th:only-of-type {\n",
       "        vertical-align: middle;\n",
       "    }\n",
       "\n",
       "    .dataframe tbody tr th {\n",
       "        vertical-align: top;\n",
       "    }\n",
       "\n",
       "    .dataframe thead th {\n",
       "        text-align: right;\n",
       "    }\n",
       "</style>\n",
       "<table border=\"1\" class=\"dataframe\">\n",
       "  <thead>\n",
       "    <tr style=\"text-align: right;\">\n",
       "      <th></th>\n",
       "      <th>ARREST_DATE</th>\n",
       "      <th>PD_DESC</th>\n",
       "      <th>OFNS_DESC</th>\n",
       "      <th>ARREST_BORO</th>\n",
       "      <th>AGE_GROUP</th>\n",
       "      <th>PERP_SEX</th>\n",
       "      <th>PERP_RACE</th>\n",
       "      <th>Month</th>\n",
       "    </tr>\n",
       "  </thead>\n",
       "  <tbody>\n",
       "    <tr>\n",
       "      <th>11</th>\n",
       "      <td>02/02/2023</td>\n",
       "      <td>ASSAULT 3</td>\n",
       "      <td>ASSAULT 3 &amp; RELATED OFFENSES</td>\n",
       "      <td>Q</td>\n",
       "      <td>&lt;18</td>\n",
       "      <td>M</td>\n",
       "      <td>BLACK</td>\n",
       "      <td>02</td>\n",
       "    </tr>\n",
       "    <tr>\n",
       "      <th>18</th>\n",
       "      <td>02/18/2023</td>\n",
       "      <td>ASSAULT 3</td>\n",
       "      <td>ASSAULT 3 &amp; RELATED OFFENSES</td>\n",
       "      <td>Q</td>\n",
       "      <td>18-24</td>\n",
       "      <td>M</td>\n",
       "      <td>BLACK</td>\n",
       "      <td>02</td>\n",
       "    </tr>\n",
       "    <tr>\n",
       "      <th>51</th>\n",
       "      <td>09/14/2023</td>\n",
       "      <td>ASSAULT 3</td>\n",
       "      <td>ASSAULT 3 &amp; RELATED OFFENSES</td>\n",
       "      <td>Q</td>\n",
       "      <td>45-64</td>\n",
       "      <td>M</td>\n",
       "      <td>WHITE HISPANIC</td>\n",
       "      <td>09</td>\n",
       "    </tr>\n",
       "    <tr>\n",
       "      <th>67</th>\n",
       "      <td>07/17/2023</td>\n",
       "      <td>ASSAULT 3</td>\n",
       "      <td>ASSAULT 3 &amp; RELATED OFFENSES</td>\n",
       "      <td>Q</td>\n",
       "      <td>&lt;18</td>\n",
       "      <td>F</td>\n",
       "      <td>BLACK</td>\n",
       "      <td>07</td>\n",
       "    </tr>\n",
       "    <tr>\n",
       "      <th>129</th>\n",
       "      <td>01/14/2023</td>\n",
       "      <td>ASSAULT 3</td>\n",
       "      <td>ASSAULT 3 &amp; RELATED OFFENSES</td>\n",
       "      <td>Q</td>\n",
       "      <td>25-44</td>\n",
       "      <td>M</td>\n",
       "      <td>BLACK</td>\n",
       "      <td>01</td>\n",
       "    </tr>\n",
       "    <tr>\n",
       "      <th>...</th>\n",
       "      <td>...</td>\n",
       "      <td>...</td>\n",
       "      <td>...</td>\n",
       "      <td>...</td>\n",
       "      <td>...</td>\n",
       "      <td>...</td>\n",
       "      <td>...</td>\n",
       "      <td>...</td>\n",
       "    </tr>\n",
       "    <tr>\n",
       "      <th>169900</th>\n",
       "      <td>06/30/2023</td>\n",
       "      <td>ASSAULT 3</td>\n",
       "      <td>ASSAULT 3 &amp; RELATED OFFENSES</td>\n",
       "      <td>Q</td>\n",
       "      <td>45-64</td>\n",
       "      <td>M</td>\n",
       "      <td>WHITE HISPANIC</td>\n",
       "      <td>06</td>\n",
       "    </tr>\n",
       "    <tr>\n",
       "      <th>170000</th>\n",
       "      <td>06/29/2023</td>\n",
       "      <td>ASSAULT 3</td>\n",
       "      <td>ASSAULT 3 &amp; RELATED OFFENSES</td>\n",
       "      <td>Q</td>\n",
       "      <td>25-44</td>\n",
       "      <td>M</td>\n",
       "      <td>ASIAN / PACIFIC ISLANDER</td>\n",
       "      <td>06</td>\n",
       "    </tr>\n",
       "    <tr>\n",
       "      <th>170015</th>\n",
       "      <td>06/28/2023</td>\n",
       "      <td>ASSAULT 3</td>\n",
       "      <td>ASSAULT 3 &amp; RELATED OFFENSES</td>\n",
       "      <td>Q</td>\n",
       "      <td>25-44</td>\n",
       "      <td>M</td>\n",
       "      <td>UNKNOWN</td>\n",
       "      <td>06</td>\n",
       "    </tr>\n",
       "    <tr>\n",
       "      <th>170047</th>\n",
       "      <td>06/03/2023</td>\n",
       "      <td>MENACING,UNCLASSIFIED</td>\n",
       "      <td>ASSAULT 3 &amp; RELATED OFFENSES</td>\n",
       "      <td>Q</td>\n",
       "      <td>18-24</td>\n",
       "      <td>U</td>\n",
       "      <td>UNKNOWN</td>\n",
       "      <td>06</td>\n",
       "    </tr>\n",
       "    <tr>\n",
       "      <th>170053</th>\n",
       "      <td>06/27/2023</td>\n",
       "      <td>ASSAULT 3</td>\n",
       "      <td>ASSAULT 3 &amp; RELATED OFFENSES</td>\n",
       "      <td>Q</td>\n",
       "      <td>18-24</td>\n",
       "      <td>F</td>\n",
       "      <td>WHITE HISPANIC</td>\n",
       "      <td>06</td>\n",
       "    </tr>\n",
       "  </tbody>\n",
       "</table>\n",
       "<p>3998 rows × 8 columns</p>\n",
       "</div>"
      ],
      "text/plain": [
       "       ARREST_DATE                PD_DESC                     OFNS_DESC  \\\n",
       "11      02/02/2023              ASSAULT 3  ASSAULT 3 & RELATED OFFENSES   \n",
       "18      02/18/2023              ASSAULT 3  ASSAULT 3 & RELATED OFFENSES   \n",
       "51      09/14/2023              ASSAULT 3  ASSAULT 3 & RELATED OFFENSES   \n",
       "67      07/17/2023              ASSAULT 3  ASSAULT 3 & RELATED OFFENSES   \n",
       "129     01/14/2023              ASSAULT 3  ASSAULT 3 & RELATED OFFENSES   \n",
       "...            ...                    ...                           ...   \n",
       "169900  06/30/2023              ASSAULT 3  ASSAULT 3 & RELATED OFFENSES   \n",
       "170000  06/29/2023              ASSAULT 3  ASSAULT 3 & RELATED OFFENSES   \n",
       "170015  06/28/2023              ASSAULT 3  ASSAULT 3 & RELATED OFFENSES   \n",
       "170047  06/03/2023  MENACING,UNCLASSIFIED  ASSAULT 3 & RELATED OFFENSES   \n",
       "170053  06/27/2023              ASSAULT 3  ASSAULT 3 & RELATED OFFENSES   \n",
       "\n",
       "       ARREST_BORO AGE_GROUP PERP_SEX                 PERP_RACE Month  \n",
       "11               Q       <18        M                     BLACK    02  \n",
       "18               Q     18-24        M                     BLACK    02  \n",
       "51               Q     45-64        M            WHITE HISPANIC    09  \n",
       "67               Q       <18        F                     BLACK    07  \n",
       "129              Q     25-44        M                     BLACK    01  \n",
       "...            ...       ...      ...                       ...   ...  \n",
       "169900           Q     45-64        M            WHITE HISPANIC    06  \n",
       "170000           Q     25-44        M  ASIAN / PACIFIC ISLANDER    06  \n",
       "170015           Q     25-44        M                   UNKNOWN    06  \n",
       "170047           Q     18-24        U                   UNKNOWN    06  \n",
       "170053           Q     18-24        F            WHITE HISPANIC    06  \n",
       "\n",
       "[3998 rows x 8 columns]"
      ]
     },
     "execution_count": 22,
     "metadata": {},
     "output_type": "execute_result"
    }
   ],
   "source": [
    "assault_Qdf.drop_duplicates()"
   ]
  },
  {
   "cell_type": "code",
   "execution_count": 23,
   "id": "1e2c8f29",
   "metadata": {},
   "outputs": [
    {
     "data": {
      "text/plain": [
       "<Axes: title={'center': 'Assault Report in Queens Borough by for 2023'}, xlabel='Month'>"
      ]
     },
     "execution_count": 23,
     "metadata": {},
     "output_type": "execute_result"
    },
    {
     "data": {
      "image/png": "[encoded data removed]",
      "text/plain": [
       "<Figure size 640x480 with 1 Axes>"
      ]
     },
     "metadata": {},
     "output_type": "display_data"
    }
   ],
   "source": [
    "#Plotting Assault Reports by Month \n",
    "assault_Qdf.groupby('Month').size().plot(kind = 'bar', color = 'firebrick', title = 'Assault Report in Queens Borough by for 2023')"
   ]
  },
  {
   "cell_type": "code",
   "execution_count": 24,
   "id": "b03f1f8c",
   "metadata": {},
   "outputs": [
    {
     "data": {
      "text/plain": [
       "<Axes: title={'center': 'Assault Crime Perpetrators by Gender'}, xlabel='PERP_SEX'>"
      ]
     },
     "execution_count": 24,
     "metadata": {},
     "output_type": "execute_result"
    },
    {
     "data": {
      "image/png": "[encoded data removed]",
      "text/plain": [
       "<Figure size 640x480 with 1 Axes>"
      ]
     },
     "metadata": {},
     "output_type": "display_data"
    }
   ],
   "source": [
    "#Assault Crime Perpetrators by Gender\n",
    "assault_Qdf['PERP_SEX'].value_counts().iloc[:3].plot(kind=\"bar\",  color = 'firebrick', title = 'Assault Crime Perpetrators by Gender', rot=0)"
   ]
  },
  {
   "cell_type": "code",
   "execution_count": 25,
   "id": "83cfcb43",
   "metadata": {},
   "outputs": [
    {
     "data": {
      "text/plain": [
       "PERP_SEX\n",
       "M    74.956491\n",
       "F    22.868082\n",
       "U     2.175426\n",
       "Name: count, dtype: float64"
      ]
     },
     "execution_count": 25,
     "metadata": {},
     "output_type": "execute_result"
    }
   ],
   "source": [
    "#perpetrators by sex percentage\n",
    "Percent_sex = assault_Qdf['PERP_SEX'].value_counts() / assault_Qdf['PERP_SEX'].shape[0] *100\n",
    "Percent_sex"
   ]
  },
  {
   "cell_type": "code",
   "execution_count": 26,
   "id": "1acdc750",
   "metadata": {},
   "outputs": [
    {
     "data": {
      "text/plain": [
       "<Axes: title={'center': 'Assault Crime Perpetrators by Age Group'}, xlabel='AGE_GROUP'>"
      ]
     },
     "execution_count": 26,
     "metadata": {},
     "output_type": "execute_result"
    },
    {
     "data": {
      "image/png": "[encoded data removed]",
      "text/plain": [
       "<Figure size 640x480 with 1 Axes>"
      ]
     },
     "metadata": {},
     "output_type": "display_data"
    }
   ],
   "source": [
    "#Assault Crime Perpetrators by Age Group\n",
    "assault_Qdf['AGE_GROUP'].value_counts().iloc[[0,1,2,3,4]].plot(kind=\"bar\", color = 'firebrick', title = 'Assault Crime Perpetrators by Age Group', rot=0)"
   ]
  },
  {
   "cell_type": "code",
   "execution_count": 27,
   "id": "84fdaefe",
   "metadata": {},
   "outputs": [
    {
     "data": {
      "text/plain": [
       "AGE_GROUP\n",
       "25-44    58.353637\n",
       "45-64    20.570832\n",
       "18-24    15.471632\n",
       "65+       2.888966\n",
       "<18       2.714932\n",
       "Name: count, dtype: float64"
      ]
     },
     "execution_count": 27,
     "metadata": {},
     "output_type": "execute_result"
    }
   ],
   "source": [
    "#perpetrators by age group percentage\n",
    "Percent_age = assault_Qdf ['AGE_GROUP'].value_counts().iloc[[0,1,2,3,4]] / assault_Qdf['AGE_GROUP'].shape[0] *100\n",
    "Percent_age"
   ]
  },
  {
   "cell_type": "code",
   "execution_count": 28,
   "id": "07804257",
   "metadata": {},
   "outputs": [
    {
     "data": {
      "text/plain": [
       "<Axes: title={'center': 'Perpetrators Race by Race'}, ylabel='PERP_RACE'>"
      ]
     },
     "execution_count": 28,
     "metadata": {},
     "output_type": "execute_result"
    },
    {
     "data": {
      "image/png": "[encoded data removed]",
      "text/plain": [
       "<Figure size 640x480 with 1 Axes>"
      ]
     },
     "metadata": {},
     "output_type": "display_data"
    }
   ],
   "source": [
    "#Perpetrators Race by Race\n",
    "assault_Qdf['PERP_RACE'].value_counts().iloc[:7].plot(kind=\"barh\", color = 'firebrick', title = 'Perpetrators Race by Race')"
   ]
  },
  {
   "cell_type": "code",
   "execution_count": 29,
   "id": "8e71a95a",
   "metadata": {},
   "outputs": [
    {
     "data": {
      "text/plain": [
       "PERP_RACE\n",
       "WHITE HISPANIC                    34.215106\n",
       "BLACK                             33.623390\n",
       "ASIAN / PACIFIC ISLANDER          16.411417\n",
       "WHITE                              8.684302\n",
       "BLACK HISPANIC                     4.890359\n",
       "UNKNOWN                            1.566307\n",
       "AMERICAN INDIAN/ALASKAN NATIVE     0.609119\n",
       "Name: count, dtype: float64"
      ]
     },
     "execution_count": 29,
     "metadata": {},
     "output_type": "execute_result"
    }
   ],
   "source": [
    "#Perpetrators Race by Race percentage\n",
    "Percent_race = assault_Qdf['PERP_RACE'].value_counts().iloc[:7] / assault_Qdf['PERP_RACE'].shape[0] *100\n",
    "Percent_race"
   ]
  },
  {
   "cell_type": "code",
   "execution_count": 30,
   "id": "4bd6022a",
   "metadata": {},
   "outputs": [
    {
     "name": "stderr",
     "output_type": "stream",
     "text": [
      "C:\\Users\\Asus\\anaconda3\\Lib\\site-packages\\seaborn\\axisgrid.py:118: UserWarning: The figure layout has changed to tight\n",
      "  self._figure.tight_layout(*args, **kwargs)\n"
     ]
    },
    {
     "data": {
      "image/png": "[encoded data removed]",
      "text/plain": [
       "<Figure size 500x500 with 1 Axes>"
      ]
     },
     "metadata": {},
     "output_type": "display_data"
    }
   ],
   "source": [
    "sns.displot(assault_Qdf['Month']).ascending=False"
   ]
  },
  {
   "cell_type": "markdown",
   "id": "02290d8f",
   "metadata": {},
   "source": [
    "In conclusion, the data shows that Queens Borough's most common crime type is Assault. It is defined as intentional injuring someone or negligently harming someone with a deadly or dangerous weapon. The highest arrest month for this year is June,   75% (2,999) offenders are Males, 58% (2,319) of age-group between 25-44, and most offenders are white hispanic which covers 34% (1,359) of 3998 total. \n",
    "\n",
    "There are potential biases and limitations present on the dataset. Firstly, it doesn’t keep track of the density of the area, so certain areas may be overpoliced and thus led to skewed data. Also, age group isn’t that specific (large age range) and doesn’t provide detailed information on each individual’s age. Lastly, the dataset only shows three quarters (Jan-Mar, Apr-Jun, Jul- Sept) of this year.  "
   ]
  },
  {
   "cell_type": "code",
   "execution_count": null,
   "id": "189f5f39",
   "metadata": {},
   "outputs": [],
   "source": []
  }
 ],
 "metadata": {
  "kernelspec": {
   "display_name": "Python 3 (ipykernel)",
   "language": "python",
   "name": "python3"
  },
  "language_info": {
   "codemirror_mode": {
    "name": "ipython",
    "version": 3
   },
   "file_extension": ".py",
   "mimetype": "text/x-python",
   "name": "python",
   "nbconvert_exporter": "python",
   "pygments_lexer": "ipython3",
   "version": "3.11.5"
  }
 },
 "nbformat": 4,
 "nbformat_minor": 5
}
